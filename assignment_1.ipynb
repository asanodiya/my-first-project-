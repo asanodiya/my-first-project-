{
  "nbformat": 4,
  "nbformat_minor": 0,
  "metadata": {
    "colab": {
      "provenance": [],
      "authorship_tag": "ABX9TyN1lPYSXiWRJIZeUH9/ddji",
      "include_colab_link": true
    },
    "kernelspec": {
      "name": "python3",
      "display_name": "Python 3"
    },
    "language_info": {
      "name": "python"
    }
  },
  "cells": [
    {
      "cell_type": "markdown",
      "metadata": {
        "id": "view-in-github",
        "colab_type": "text"
      },
      "source": [
        "<a href=\"https://colab.research.google.com/github/asanodiya/my-first-project-/blob/main/assignment_1.ipynb\" target=\"_parent\"><img src=\"https://colab.research.google.com/assets/colab-badge.svg\" alt=\"Open In Colab\"/></a>"
      ]
    },
    {
      "cell_type": "markdown",
      "source": [
        "Q1. Create one variable containing following type of data:\n",
        "(i) string\n",
        "(ii) list\n",
        "(iii) float\n",
        "(iv) tuple"
      ],
      "metadata": {
        "id": "heTVqW_eoNhU"
      }
    },
    {
      "cell_type": "code",
      "source": [
        "s=\"avadhesh\"\n",
        "type(s)"
      ],
      "metadata": {
        "colab": {
          "base_uri": "https://localhost:8080/"
        },
        "id": "-SBwz-W_oQSW",
        "outputId": "47f393c2-9d4c-44b1-a159-9b77bb59ba76"
      },
      "execution_count": 4,
      "outputs": [
        {
          "output_type": "execute_result",
          "data": {
            "text/plain": [
              "str"
            ]
          },
          "metadata": {},
          "execution_count": 4
        }
      ]
    },
    {
      "cell_type": "code",
      "source": [
        "l=[1,2,3,4,5,6]\n",
        "type(l)"
      ],
      "metadata": {
        "colab": {
          "base_uri": "https://localhost:8080/"
        },
        "id": "YpIleFpToiE4",
        "outputId": "ba63eb18-9816-4a50-c383-ee182220eb17"
      },
      "execution_count": 6,
      "outputs": [
        {
          "output_type": "execute_result",
          "data": {
            "text/plain": [
              "list"
            ]
          },
          "metadata": {},
          "execution_count": 6
        }
      ]
    },
    {
      "cell_type": "code",
      "source": [
        "f=2.4\n",
        "type(f)"
      ],
      "metadata": {
        "colab": {
          "base_uri": "https://localhost:8080/"
        },
        "id": "eO0SZ7cWozUm",
        "outputId": "8a7c71c2-2dca-440d-a0f6-efff820d0a09"
      },
      "execution_count": 7,
      "outputs": [
        {
          "output_type": "execute_result",
          "data": {
            "text/plain": [
              "float"
            ]
          },
          "metadata": {},
          "execution_count": 7
        }
      ]
    },
    {
      "cell_type": "code",
      "source": [
        "t=(1,'avi',345,4.5)\n",
        "type(t)"
      ],
      "metadata": {
        "colab": {
          "base_uri": "https://localhost:8080/"
        },
        "id": "H_ny_O2Vo7QW",
        "outputId": "f5a8deb0-606f-430c-b11b-96102f7f8fb9"
      },
      "execution_count": 10,
      "outputs": [
        {
          "output_type": "execute_result",
          "data": {
            "text/plain": [
              "tuple"
            ]
          },
          "metadata": {},
          "execution_count": 10
        }
      ]
    },
    {
      "cell_type": "code",
      "source": [],
      "metadata": {
        "id": "cZSJkibipOCz"
      },
      "execution_count": null,
      "outputs": []
    },
    {
      "cell_type": "markdown",
      "source": [
        "Q2. Given are some following variables containing data:\n",
        "(i) var1 = ‘ ‘\n",
        "(ii) var2 = ‘[ DS , ML , Python]’\n",
        "(iii) var3 = [ ‘DS’ , ’ML’ , ‘Python’ ]\n",
        "(iv) var4 = 1.\n",
        "What will be the data type of the above given variable."
      ],
      "metadata": {
        "id": "R-mDncCFphL4"
      }
    },
    {
      "cell_type": "code",
      "source": [
        "var1 =\"\"\n",
        "type(var1)"
      ],
      "metadata": {
        "colab": {
          "base_uri": "https://localhost:8080/"
        },
        "id": "0cXpPrRBplhy",
        "outputId": "7d6bb353-4e57-464b-ba39-b0e5cce1d8d1"
      },
      "execution_count": 14,
      "outputs": [
        {
          "output_type": "execute_result",
          "data": {
            "text/plain": [
              "str"
            ]
          },
          "metadata": {},
          "execution_count": 14
        }
      ]
    },
    {
      "cell_type": "code",
      "source": [
        "var2 = '[ DS , ML , Python]'\n",
        "type(var2)\n"
      ],
      "metadata": {
        "colab": {
          "base_uri": "https://localhost:8080/"
        },
        "id": "MAZ-u5X6qEge",
        "outputId": "53245d7b-b491-4b4e-ebc1-09999d5969d8"
      },
      "execution_count": 17,
      "outputs": [
        {
          "output_type": "execute_result",
          "data": {
            "text/plain": [
              "str"
            ]
          },
          "metadata": {},
          "execution_count": 17
        }
      ]
    },
    {
      "cell_type": "code",
      "source": [
        "var3 = [ \"DS\" ,'ML' , 'Python' ]\n",
        "type(var3)"
      ],
      "metadata": {
        "colab": {
          "base_uri": "https://localhost:8080/"
        },
        "id": "PqrIsb4oqQDU",
        "outputId": "ed4f6b91-947c-4f47-bfd0-e1d7f72a0fb9"
      },
      "execution_count": 20,
      "outputs": [
        {
          "output_type": "execute_result",
          "data": {
            "text/plain": [
              "list"
            ]
          },
          "metadata": {},
          "execution_count": 20
        }
      ]
    },
    {
      "cell_type": "code",
      "source": [
        "var4 = 1\n",
        "type(var4)"
      ],
      "metadata": {
        "colab": {
          "base_uri": "https://localhost:8080/"
        },
        "id": "JRKMbgrsqy0h",
        "outputId": "f8709395-d1a4-4338-eaf3-e5d873e8c394"
      },
      "execution_count": 22,
      "outputs": [
        {
          "output_type": "execute_result",
          "data": {
            "text/plain": [
              "int"
            ]
          },
          "metadata": {},
          "execution_count": 22
        }
      ]
    },
    {
      "cell_type": "markdown",
      "source": [
        "Q3. Explain the use of the following operators using an example:\n",
        "(i) /\n",
        "(ii) %\n",
        "(iii) //\n",
        "(iv) **\n",
        "\n"
      ],
      "metadata": {
        "id": "ssTWaq9UrBja"
      }
    },
    {
      "cell_type": "markdown",
      "source": [
        "(i) The \"/\" operator in most programming languages is used for division. It divides one number by another and returns the quotient or the result of the division. For example:\n",
        "\n"
      ],
      "metadata": {
        "id": "Zl42298yr4lr"
      }
    },
    {
      "cell_type": "code",
      "source": [
        "a = 10\n",
        "b = 3\n",
        "result = a / b\n",
        "print(result)\n"
      ],
      "metadata": {
        "colab": {
          "base_uri": "https://localhost:8080/"
        },
        "id": "iVAGXaICr8dZ",
        "outputId": "3ad0eac4-e1f1-42a8-9f84-18d9c485d4e5"
      },
      "execution_count": 23,
      "outputs": [
        {
          "output_type": "stream",
          "name": "stdout",
          "text": [
            "3.3333333333333335\n"
          ]
        }
      ]
    },
    {
      "cell_type": "markdown",
      "source": [
        "(ii) The \"%\" operator, known as the modulus or remainder operator, returns the remainder of the division between two numbers. For example:"
      ],
      "metadata": {
        "id": "1JcToWvSsNA1"
      }
    },
    {
      "cell_type": "markdown",
      "source": [],
      "metadata": {
        "id": "Jl51e0uJsVzt"
      }
    },
    {
      "cell_type": "code",
      "source": [
        "a = 10\n",
        "b = 3\n",
        "result = a % b\n",
        "print(result)\n"
      ],
      "metadata": {
        "colab": {
          "base_uri": "https://localhost:8080/"
        },
        "id": "R-SK8ovssOK1",
        "outputId": "9ccd8c85-2074-456b-bd14-ec075ead4fd8"
      },
      "execution_count": 24,
      "outputs": [
        {
          "output_type": "stream",
          "name": "stdout",
          "text": [
            "1\n"
          ]
        }
      ]
    },
    {
      "cell_type": "markdown",
      "source": [
        "(iii) The \"//\" operator, known as the floor division or integer division operator, divides one number by another and returns the floor value of the quotient (the largest integer that is less than or equal to the result). For example:"
      ],
      "metadata": {
        "id": "U2liCNwNsiCJ"
      }
    },
    {
      "cell_type": "code",
      "source": [
        "a = 10\n",
        "b = 3\n",
        "result = a // b\n",
        "print(result)\n"
      ],
      "metadata": {
        "colab": {
          "base_uri": "https://localhost:8080/"
        },
        "id": "n5Y_k0UxsjJ0",
        "outputId": "96779ef4-535b-4257-a3e4-ca0dae7b96c6"
      },
      "execution_count": 25,
      "outputs": [
        {
          "output_type": "stream",
          "name": "stdout",
          "text": [
            "3\n"
          ]
        }
      ]
    },
    {
      "cell_type": "markdown",
      "source": [
        "(iv) The \"**\" operator is used for exponentiation or raising a number to a power. It takes two operands, the base number and the exponent, and returns the result of raising the base to the power of the exponent. For example:"
      ],
      "metadata": {
        "id": "1gu59raRspXX"
      }
    },
    {
      "cell_type": "code",
      "source": [
        "a = 2\n",
        "b = 3\n",
        "result = a ** b\n",
        "print(result)\n"
      ],
      "metadata": {
        "colab": {
          "base_uri": "https://localhost:8080/"
        },
        "id": "FvMOptPYssE3",
        "outputId": "f4d0941d-c9dd-4059-c281-8e935ba03a58"
      },
      "execution_count": 27,
      "outputs": [
        {
          "output_type": "stream",
          "name": "stdout",
          "text": [
            "8\n"
          ]
        }
      ]
    },
    {
      "cell_type": "code",
      "source": [],
      "metadata": {
        "id": "qUS6n_bws6T8"
      },
      "execution_count": null,
      "outputs": []
    },
    {
      "cell_type": "markdown",
      "source": [
        "Q4. Create a list of length 10 of your choice containing multiple types of data. Using for loop print the\n",
        "element and its data type."
      ],
      "metadata": {
        "id": "rU6ElOCEtNHd"
      }
    },
    {
      "cell_type": "code",
      "source": [
        "l=[2,45,'avi',3.4,3+3j,35]\n",
        "for i in l:\n",
        "  print(i,type(i))"
      ],
      "metadata": {
        "colab": {
          "base_uri": "https://localhost:8080/"
        },
        "id": "MQX4JGo2tNuD",
        "outputId": "a0cfbb2f-8a96-415b-b424-b7b4bf80a9af"
      },
      "execution_count": 33,
      "outputs": [
        {
          "output_type": "stream",
          "name": "stdout",
          "text": [
            "2 <class 'int'>\n",
            "45 <class 'int'>\n",
            "avi <class 'str'>\n",
            "3.4 <class 'float'>\n",
            "(3+3j) <class 'complex'>\n",
            "35 <class 'int'>\n"
          ]
        }
      ]
    },
    {
      "cell_type": "markdown",
      "source": [
        "Q5. Using a while loop, verify if the number A is purely divisible by number B and if so then how many\n",
        "times it can be divisible."
      ],
      "metadata": {
        "id": "b54KxaHWu_IM"
      }
    },
    {
      "cell_type": "code",
      "source": [
        "A = 42  # Number to be divided\n",
        "B = 7   # Divisor\n",
        "\n",
        "count = 0  # Counter to keep track of the number of divisions\n",
        "\n",
        "while A % B == 0:\n",
        "    A = A // B  # Divide A by B\n",
        "    count += 1  # Increment the count\n",
        "\n",
        "if count > 0:\n",
        "    print(f\"{A} is divisible by {B} and can be divided {count} times.\")\n",
        "else:\n",
        "    print(f\"{A} is not divisible by {B}.\")\n",
        "\n"
      ],
      "metadata": {
        "colab": {
          "base_uri": "https://localhost:8080/"
        },
        "id": "mBXZEWIHvALz",
        "outputId": "f49885d1-1783-4755-db90-970e2201946d"
      },
      "execution_count": 36,
      "outputs": [
        {
          "output_type": "stream",
          "name": "stdout",
          "text": [
            "6 is divisible by 7 and can be divided 1 times.\n"
          ]
        }
      ]
    },
    {
      "cell_type": "code",
      "source": [],
      "metadata": {
        "id": "T9Q472MHyuz0"
      },
      "execution_count": null,
      "outputs": []
    },
    {
      "cell_type": "markdown",
      "source": [
        "Q6. Create a list containing 25 int type data. Using for loop and if-else condition print if the element is\n",
        "divisible by 3 or not."
      ],
      "metadata": {
        "id": "pnbB0esuyzvd"
      }
    },
    {
      "cell_type": "code",
      "source": [
        "l=[23,45,56,78,54,34,23,5,68,2,45,78,12,32,4,5,6,8,9,90,8,90,786,75,65,4,53,42,3,12,1,234,4235,46,567]\n",
        "for i in l:\n",
        "  if i%3==0:\n",
        "    print(f\"{i} is divisible by 3\")\n",
        "  else:\n",
        "    print(f\"{i} is not divisible by 3\")\n",
        "\n",
        ""
      ],
      "metadata": {
        "colab": {
          "base_uri": "https://localhost:8080/"
        },
        "id": "rvm9Hn8jy09O",
        "outputId": "857e2dd5-fb10-4c20-c3fa-02f48ced965d"
      },
      "execution_count": 45,
      "outputs": [
        {
          "output_type": "stream",
          "name": "stdout",
          "text": [
            "23 is not divisible by 3\n",
            "45 is divisible by 3\n",
            "56 is not divisible by 3\n",
            "78 is divisible by 3\n",
            "54 is divisible by 3\n",
            "34 is not divisible by 3\n",
            "23 is not divisible by 3\n",
            "5 is not divisible by 3\n",
            "68 is not divisible by 3\n",
            "2 is not divisible by 3\n",
            "45 is divisible by 3\n",
            "78 is divisible by 3\n",
            "12 is divisible by 3\n",
            "32 is not divisible by 3\n",
            "4 is not divisible by 3\n",
            "5 is not divisible by 3\n",
            "6 is divisible by 3\n",
            "8 is not divisible by 3\n",
            "9 is divisible by 3\n",
            "90 is divisible by 3\n",
            "8 is not divisible by 3\n",
            "90 is divisible by 3\n",
            "786 is divisible by 3\n",
            "75 is divisible by 3\n",
            "65 is not divisible by 3\n",
            "4 is not divisible by 3\n",
            "53 is not divisible by 3\n",
            "42 is divisible by 3\n",
            "3 is divisible by 3\n",
            "12 is divisible by 3\n",
            "1 is not divisible by 3\n",
            "234 is divisible by 3\n",
            "4235 is not divisible by 3\n",
            "46 is not divisible by 3\n",
            "567 is divisible by 3\n"
          ]
        }
      ]
    },
    {
      "cell_type": "code",
      "source": [],
      "metadata": {
        "id": "DMeR7RVD1a93"
      },
      "execution_count": null,
      "outputs": []
    },
    {
      "cell_type": "markdown",
      "source": [
        "Q7. What do you understand about mutable and immutable data types? Give examples for both showing\n",
        "this property."
      ],
      "metadata": {
        "id": "jTD0cMtC1gZS"
      }
    },
    {
      "cell_type": "code",
      "source": [],
      "metadata": {
        "id": "bjAuGXNE1hHe"
      },
      "execution_count": null,
      "outputs": []
    },
    {
      "cell_type": "markdown",
      "source": [
        "In programming, mutable and immutable are two fundamental concepts related to data types.\n",
        "\n",
        "Immutable data types:\n",
        "Immutable data types are those whose values cannot be changed after they are created. If you need to modify an immutable object, you need to create a new object with the desired changes. Examples of immutable data types include integers, floats, booleans, strings, and tuples."
      ],
      "metadata": {
        "id": "YjLpCnYX2fI1"
      }
    },
    {
      "cell_type": "code",
      "source": [
        "# Example of immutable data types\n",
        "x = 5  # Integer\n",
        "y = 3.14  # Float\n",
        "z = True  # Boolean\n",
        "name = \"John\"  # String\n",
        "point = (2, 3)  # Tuple\n",
        "\n",
        "# Trying to modify an immutable object will create a new object\n",
        "x = x + 1\n",
        "name = name + \" Doe\"\n",
        "\n",
        "#In the above example, when we try to modify the values of x and name, new objects are created with the updated values, while the original objects remain unchanged.\n"
      ],
      "metadata": {
        "id": "bxlKe8ub2kx6"
      },
      "execution_count": 46,
      "outputs": []
    },
    {
      "cell_type": "code",
      "source": [],
      "metadata": {
        "id": "qtAT1yWC2piX"
      },
      "execution_count": null,
      "outputs": []
    },
    {
      "cell_type": "markdown",
      "source": [
        "Mutable data types:\n",
        "Mutable data types are those whose values can be modified after they are created. You can directly modify the object without creating a new one. Examples of mutable data types include lists, dictionaries, and sets."
      ],
      "metadata": {
        "id": "aZD7iMLf3Jxt"
      }
    },
    {
      "cell_type": "code",
      "source": [
        "# Example of mutable data types\n",
        "my_list = [1, 2, 3]  # List\n",
        "my_dict = {'name': 'John', 'age': 25}  # Dictionary\n",
        "my_set = {1, 2, 3}  # Set\n",
        "\n",
        "# Modifying a mutable object directly\n",
        "my_list.append(4)\n",
        "my_dict['age'] = 26\n",
        "my_set.add(4)\n",
        "#In this example, we can see that the values of my_list, my_dict, and my_set can be modified directly without creating new objects."
      ],
      "metadata": {
        "id": "QvkOkB9j3Me9"
      },
      "execution_count": null,
      "outputs": []
    }
  ]
}